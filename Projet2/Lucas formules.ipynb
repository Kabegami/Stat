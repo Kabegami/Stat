{
 "cells": [
  {
   "cell_type": "markdown",
   "metadata": {},
   "source": [
    "Pour chaque mot, on regarde les différentes lettres possible avant, et pour un mot de format : (l1,l2)"
   ]
  },
  {
   "cell_type": "markdown",
   "metadata": {},
   "source": [
    "$P(mot)$ = $P(A)*P(L1|A)*P(L2|L1)$ + $P(C)*P(L1|C)*P(L2|L1)$ + $P(T)*P(L1|T)*P(L2|L1)$ + $P(G)*P(L1|G)*P(L2|L1)$\n"
   ]
  }
 ],
 "metadata": {
  "kernelspec": {
   "display_name": "Python 2",
   "language": "python",
   "name": "python2"
  },
  "language_info": {
   "codemirror_mode": {
    "name": "ipython",
    "version": 2
   },
   "file_extension": ".py",
   "mimetype": "text/x-python",
   "name": "python",
   "nbconvert_exporter": "python",
   "pygments_lexer": "ipython2",
   "version": "2.7.13"
  }
 },
 "nbformat": 4,
 "nbformat_minor": 2
}
